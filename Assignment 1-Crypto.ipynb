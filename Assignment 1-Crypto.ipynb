{
 "cells": [
  {
   "cell_type": "markdown",
   "id": "9a6b4ccf",
   "metadata": {},
   "source": [
    "# Classics Mechanical Problems"
   ]
  },
  {
   "cell_type": "raw",
   "id": "2e693325",
   "metadata": {},
   "source": []
  },
  {
   "cell_type": "raw",
   "id": "9317ac49",
   "metadata": {},
   "source": [
    "1a) What is the size of key space for a fixed modular n? Students can use the notation of the Euler's\n",
    "totient Φ(n). It is defined as the number of integers that are coprime to n.\n",
    "\n",
    "\n",
    "\n"
   ]
  }
 ],
 "metadata": {
  "kernelspec": {
   "display_name": "Python 3 (ipykernel)",
   "language": "python",
   "name": "python3"
  },
  "language_info": {
   "codemirror_mode": {
    "name": "ipython",
    "version": 3
   },
   "file_extension": ".py",
   "mimetype": "text/x-python",
   "name": "python",
   "nbconvert_exporter": "python",
   "pygments_lexer": "ipython3",
   "version": "3.9.13"
  }
 },
 "nbformat": 4,
 "nbformat_minor": 5
}
